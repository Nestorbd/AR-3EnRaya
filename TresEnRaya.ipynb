{
 "cells": [
  {
   "cell_type": "code",
   "execution_count": 6,
   "metadata": {},
   "outputs": [],
   "source": [
    "import numpy as np\n",
    "# Inicialización de la tabla Q\n",
    "Q = np.zeros([3**9, 9])\n",
    "diccionario = {}\n",
    "diccionario_inv = {}"
   ]
  },
  {
   "cell_type": "code",
   "execution_count": 2,
   "metadata": {},
   "outputs": [],
   "source": [
    "# Representación del tablero: 0 para celda vacía, 1 para jugador 1, 2 para jugador 2\n",
    "EMPTY, PLAYER_1, PLAYER_2 = 0, 1, 2\n",
    "\n",
    "# Tasa de aprendizaje\n",
    "v = 0.3\n",
    "\n",
    "# Factor de descuento\n",
    "y = 0.9\n",
    "\n",
    "# Probabilidad de exploración\n",
    "epsilon = 0.1\n",
    "\n",
    "# Número de episodios de entrenamiento\n",
    "entrenar = 10000"
   ]
  },
  {
   "cell_type": "code",
   "execution_count": 3,
   "metadata": {},
   "outputs": [],
   "source": [
    "def check_jugador1(estado_rep):\n",
    "    win = False\n",
    "    a = estado_rep%3**8\n",
    "    b = estado_rep%3**7\n",
    "    c = estado_rep%3**6\n",
    "    d = estado_rep%3**5\n",
    "    e = estado_rep%3**4\n",
    "    f = estado_rep%3**3\n",
    "    g = estado_rep%3**2\n",
    "    h = estado_rep%3**1\n",
    "    i = estado_rep%3**0\n",
    "\n",
    "    # Horizontales\n",
    "    if(a*b*c == 1): win=True\n",
    "    if(d*e*f == 1): win=True\n",
    "    if(g*h*i == 1): win=True\n",
    "    # Verticales\n",
    "    if(a*d*g == 1): win=True\n",
    "    if(b*e*h == 1): win=True\n",
    "    if(c*f*i == 1): win=True\n",
    "    # Diagonales\n",
    "    if(a*e*i == 1): win=True\n",
    "    if(c*e*g == 1): win=True\n",
    "\n",
    "    return win\n",
    "\n",
    "def check_jugador2(estado_rep):\n",
    "    win = False\n",
    "    a = estado_rep%3**8\n",
    "    b = estado_rep%3**7\n",
    "    c = estado_rep%3**6\n",
    "    d = estado_rep%3**5\n",
    "    e = estado_rep%3**4\n",
    "    f = estado_rep%3**3\n",
    "    g = estado_rep%3**2\n",
    "    h = estado_rep%3**1\n",
    "    i = estado_rep%3**0\n",
    "    \n",
    "    # Horizontales\n",
    "    if(a*b*c == 8): win=True\n",
    "    if(d*e*f == 8): win=True\n",
    "    if(g*h*i == 8): win=True\n",
    "    # Verticales\n",
    "    if(a*d*g == 8): win=True\n",
    "    if(b*e*h == 8): win=True\n",
    "    if(c*f*i == 8): win=True\n",
    "    # Diagonales\n",
    "    if(a*e*i == 8): win=True\n",
    "    if(c*e*g == 8): win=True\n",
    "\n",
    "    return win\n"
   ]
  },
  {
   "cell_type": "code",
   "execution_count": 11,
   "metadata": {},
   "outputs": [],
   "source": [
    "def initialize_dictionaries():\n",
    "    y = 0\n",
    "    for a in range(3):\n",
    "        for b in range(3):\n",
    "            for c in range(3):\n",
    "                for d in range(3):\n",
    "                    for e in range(3):\n",
    "                        for f in range(3):\n",
    "                            for g in range(3):\n",
    "                                for h in range(3):\n",
    "                                    for i in range(3):\n",
    "                                        estado = [a, b, c, d, e, f, g, h, i]\n",
    "                                        if (estado.count(1) == estado.count(2)) or (estado.count(1) == (estado.count(2) + 1)):\n",
    "                                            estado_rep = 3**8*a+3**7*b+3**6*c+3**5*d+3**4*e+3**3*f+3**2*g+3**1*h+3**0+i\n",
    "                                            if not (check_jugador1(estado_rep) and check_jugador2(estado_rep)):\n",
    "                                                diccionario[y] = estado_rep\n",
    "                                                diccionario_inv[estado_rep] = y\n",
    "                                                y+=1"
   ]
  },
  {
   "cell_type": "code",
   "execution_count": 12,
   "metadata": {},
   "outputs": [
    {
     "name": "stdout",
     "output_type": "stream",
     "text": [
      "6046\n"
     ]
    }
   ],
   "source": [
    "initialize_dictionaries()\n",
    "print(len(diccionario_inv))"
   ]
  },
  {
   "cell_type": "code",
   "execution_count": null,
   "metadata": {},
   "outputs": [],
   "source": [
    "def choose_action(state):\n",
    "    if np.random.rand() < epsilon:\n",
    "        # Exploración: elige una acción al azar\n",
    "        empty_cells = [(i, j) for i in range(3) for j in range(3) if state[i][j] == EMPTY]\n",
    "        return empty_cells[np.random.choice(len(empty_cells))]\n",
    "    else:\n",
    "        # Explotación: elige la acción con el mayor valor Q\n",
    "        return max(Q[state].items(), key=lambda x: x[1])[0]"
   ]
  },
  {
   "cell_type": "code",
   "execution_count": null,
   "metadata": {},
   "outputs": [],
   "source": [
    "def update_q_value(s, a, next):\n",
    "     Q[s,a]=(1-v)*Q[s,a]+v*(R[s,a]+y*max(Q[next,]))"
   ]
  }
 ],
 "metadata": {
  "kernelspec": {
   "display_name": "Python 3.12.1 64-bit (microsoft store)",
   "language": "python",
   "name": "python3"
  },
  "language_info": {
   "codemirror_mode": {
    "name": "ipython",
    "version": 3
   },
   "file_extension": ".py",
   "mimetype": "text/x-python",
   "name": "python",
   "nbconvert_exporter": "python",
   "pygments_lexer": "ipython3",
   "version": "3.12.1"
  },
  "vscode": {
   "interpreter": {
    "hash": "71974deb598f5c1376f60283cb925da36c9cb4aee971473c2b9d35f47ce41551"
   }
  }
 },
 "nbformat": 4,
 "nbformat_minor": 2
}
